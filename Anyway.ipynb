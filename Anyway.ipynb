{
 "cells": [
  {
   "cell_type": "code",
   "execution_count": 1,
   "metadata": {},
   "outputs": [],
   "source": [
    "import numpy as np\n",
    "import pandas as pd\n",
    "import seaborn as sbn\n",
    "import matplotlib.pyplot as plt\n",
    "import warnings\n",
    "\n",
    "warnings.filterwarnings(\"ignore\")"
   ]
  },
  {
   "cell_type": "code",
   "execution_count": 2,
   "metadata": {},
   "outputs": [],
   "source": [
    "df = pd.read_csv('train.csv')\n",
    "_df = pd.read_csv('test.csv')"
   ]
  },
  {
   "cell_type": "code",
   "execution_count": 3,
   "metadata": {},
   "outputs": [],
   "source": [
    "_df['Surname'] = _df['Name'].apply(lambda x: x.split(',')[0])\n",
    "df['Surname'] = df['Name'].apply(lambda x: x.split(',')[0])\n",
    "df = pd.merge(df,_df['Surname'])"
   ]
  },
  {
   "cell_type": "code",
   "execution_count": 5,
   "metadata": {},
   "outputs": [],
   "source": [
    "_df['Title'] = _df['Name'].apply(lambda x: x.split(',')[1].split('.')[0].replace(' ',''))\n",
    "df['Title'] = df['Name'].apply(lambda x: x.split(',')[1].split('.')[0].replace(' ',''))\n",
    "\n",
    "# _df['Title'] = _df['Title'].replace('Col','Mr')\n",
    "# _df['Title'] = _df['Title'].replace('Rev','Mr')\n",
    "# _df['Title'] = _df['Title'].replace('Dr','Mr')\n",
    "# _df['Title'] = _df['Title'].replace('Dona','Mrs')\n",
    "# _df['Title'] = _df['Title'].replace('Miss','Mrs')\n",
    "# _df['Title'] = _df['Title'].replace('Ms','Mrs')\n",
    "\n",
    "# df['Title'] = df['Title'].replace('Dr','Mr')\n",
    "# df['Title'] = df['Title'].replace('Capt','Mr')\n",
    "# df['Title'] = df['Title'].replace('Dr','Mr')\n",
    "# df['Title'] = df['Title'].replace('Miss','Mrs')\n",
    "# df['Title'] = df['Title'].replace('Miss','Mrs')\n",
    "\n",
    "# df['Title'] = df['Title'].apply(lambda x: 'erkek' if x == 'Mr' else ('kadın' if x == 'Mrs' else 'Others'))"
   ]
  },
  {
   "cell_type": "code",
   "execution_count": 7,
   "metadata": {},
   "outputs": [],
   "source": [
    "_list = ['Master','Mr','Mrs']\n",
    "df_pivot = df.pivot_table('Survived', index='Surname',columns='Title')\n",
    "for i in _list: \n",
    "    df_pivot[i] = df.pivot_table('Survived', index='Surname',columns='Title')[i].apply(lambda x: 0 if x != 1 else 1)\n",
    "\n",
    "df_pivot = df_pivot.reset_index()\n",
    "_df = pd.merge(_df, df_pivot, on='Surname',how='outer')\n",
    "_df = _df.sort_values('PassengerId')"
   ]
  },
  {
   "cell_type": "code",
   "execution_count": null,
   "metadata": {},
   "outputs": [],
   "source": [
    "df['Embarked'] = df['Embarked'].fillna('S')\n",
    "_df['Embarked'] = _df['Embarked'].fillna('S')"
   ]
  },
  {
   "cell_type": "markdown",
   "metadata": {},
   "source": [
    "Embarked Rate"
   ]
  },
  {
   "cell_type": "code",
   "execution_count": null,
   "metadata": {},
   "outputs": [],
   "source": [
    "_list = ['female','male']\n",
    "__list = ['C','Q','S']\n",
    "for i in _list:\n",
    "    for j in range(3):\n",
    "        index = df[df['Sex'] == i][df['Embarked'] == __list[j]].index\n",
    "        _index = _df[_df['Sex'] == i][_df['Embarked'] == __list[j]].index\n",
    "        value = df.pivot_table('Survived',index='Embarked',columns='Sex')[i][j]\n",
    "        df.loc[index,'Embarked_rate'] = round(value,1)\n",
    "        _df.loc[_index,'Embarked_rate'] = round(value,1)"
   ]
  },
  {
   "cell_type": "markdown",
   "metadata": {},
   "source": [
    "Pclass Rate"
   ]
  },
  {
   "cell_type": "code",
   "execution_count": null,
   "metadata": {},
   "outputs": [],
   "source": [
    "df.pivot_table('Survived',index='Pclass',columns='Sex')\n",
    "\n",
    "_list = ['female','male']\n",
    "for i in _list:\n",
    "    for j in range(3):\n",
    "        index = df[df['Sex'] == i][df['Pclass'] == (j+1)].index\n",
    "        _index = _df[_df['Sex'] == i][_df['Pclass'] == (j+1)].index\n",
    "        value = df.pivot_table('Survived',index='Pclass',columns='Sex')[i][j+1]\n",
    "        df.loc[index,'Pclass_rate'] = round(value,1)\n",
    "        _df.loc[_index,'Pclass_rate'] = round(value,1)"
   ]
  },
  {
   "cell_type": "markdown",
   "metadata": {},
   "source": [
    "Rate for Sex"
   ]
  },
  {
   "cell_type": "code",
   "execution_count": null,
   "metadata": {},
   "outputs": [],
   "source": [
    "# women_rate = df.groupby('Sex')[['Survived']].mean().iloc[0].values[0]\n",
    "# men_rate = df.groupby('Sex')[['Survived']].mean().iloc[1].values[0]\n",
    "# df['Rate'] = df['Sex'].apply(lambda x: men_rate if x == 'male' else women_rate)\n",
    "# _df['Rate'] = df['Sex'].apply(lambda x: men_rate if x == 'male' else women_rate)"
   ]
  },
  {
   "cell_type": "markdown",
   "metadata": {},
   "source": [
    "Fill nan Age values"
   ]
  },
  {
   "cell_type": "code",
   "execution_count": null,
   "metadata": {},
   "outputs": [],
   "source": [
    "def fillAge(df): ## title\n",
    "    start = df.groupby(['Sex','Pclass'])[['Age']].agg(lambda x: x.mean() + x.std()) ##.unstack()\n",
    "    end = df.groupby(['Sex','Pclass'])[['Age']].agg(lambda x: x.mean() - x.std()) ##.unstack()\n",
    "\n",
    "    _list = ['female','male']\n",
    "    for i in _list:\n",
    "        for j in range(3):\n",
    "            x = start.loc[i].iloc[j].values[0]\n",
    "            y = end.loc[i].iloc[j].values[0]\n",
    "            length = len(df[df['Sex'] == i][df['Pclass'] == (j+1)][np.isnan(df['Age'])]) \n",
    "            index = df[df['Sex'] == i][df['Pclass'] == (j+1)][df['Age'].isna()].index\n",
    "            random_values = np.random.randint(y,x,length)\n",
    "            df['Age'].loc[index] = random_values\n",
    "\n",
    "    df['Age'] = df['Age'].astype(int)\n",
    "\n",
    "fillAge(df)\n",
    "fillAge(_df)    "
   ]
  },
  {
   "cell_type": "markdown",
   "metadata": {},
   "source": [
    "Categorical Age"
   ]
  },
  {
   "cell_type": "code",
   "execution_count": null,
   "metadata": {},
   "outputs": [],
   "source": [
    "df.loc[ df['Age'] <= 16, 'Age'] = 0\n",
    "df.loc[(df['Age'] > 16) & (df['Age'] <= 32), 'Age'] = 1\n",
    "df.loc[(df['Age'] > 32) & (df['Age'] <= 48), 'Age'] = 2\n",
    "df.loc[(df['Age'] > 48) & (df['Age'] <= 64), 'Age'] = 3\n",
    "df.loc[ df['Age'] > 64, 'Age'] = 4\n",
    "\n",
    "_df.loc[ _df['Age'] <= 16, 'Age'] = 0\n",
    "_df.loc[(_df['Age'] > 16) & (_df['Age'] <= 32), 'Age'] = 1\n",
    "_df.loc[(_df['Age'] > 32) & (_df['Age'] <= 48), 'Age'] = 2\n",
    "_df.loc[(_df['Age'] > 48) & (_df['Age'] <= 64), 'Age'] = 3\n",
    "_df.loc[ _df['Age'] > 64, 'Age'] = 4\n",
    "\n",
    "fig = plt.figure(figsize=(12,5))\n",
    "sbn.barplot(x='Age', y='Survived', data=df)\n",
    "plt.show()"
   ]
  },
  {
   "cell_type": "markdown",
   "metadata": {},
   "source": [
    "Categorical Fare"
   ]
  },
  {
   "cell_type": "code",
   "execution_count": null,
   "metadata": {},
   "outputs": [],
   "source": [
    "df['CatFare'] = pd.qcut(df['Fare'],4)\n",
    "_df['CatFare'] = pd.qcut(_df['Fare'],4)\n",
    "\n",
    "fig = plt.figure(figsize=(12,5))\n",
    "sbn.barplot(x='CatFare', y='Survived', data=df)\n",
    "plt.show()"
   ]
  },
  {
   "cell_type": "code",
   "execution_count": null,
   "metadata": {},
   "outputs": [],
   "source": [
    "from sklearn.preprocessing import LabelEncoder\n",
    "\n",
    "label = LabelEncoder()\n",
    "df['CatFare'] = label.fit_transform(df['CatFare'])\n",
    "_df['CatFare'] = label.fit_transform(_df['CatFare'])"
   ]
  },
  {
   "cell_type": "markdown",
   "metadata": {},
   "source": [
    "Categorical Sex and Embarked"
   ]
  },
  {
   "cell_type": "code",
   "execution_count": null,
   "metadata": {},
   "outputs": [],
   "source": [
    "df['Sex'] = df['Sex'].map({'female':1, 'male':0}).astype('int')\n",
    "_df['Sex'] = _df['Sex'].map({'female':1, 'male':0}).astype('int')\n",
    "\n",
    "df['Embarked'] = df['Embarked'].map({'S':0, 'C':1, 'Q':2}).astype('int')\n",
    "_df['Embarked'] = _df['Embarked'].map({'S':0, 'C':1, 'Q':2}).astype('int')"
   ]
  },
  {
   "cell_type": "code",
   "execution_count": null,
   "metadata": {},
   "outputs": [],
   "source": [
    "fig = plt.figure(figsize=(12,5))\n",
    "sbn.barplot(x='Sex', y='Survived', data=df)\n",
    "plt.show()"
   ]
  },
  {
   "cell_type": "code",
   "execution_count": null,
   "metadata": {},
   "outputs": [],
   "source": [
    "fig = plt.figure(figsize=(12,5))\n",
    "sbn.barplot(x='Embarked', y='Survived', data=df)\n",
    "plt.show()"
   ]
  },
  {
   "cell_type": "markdown",
   "metadata": {},
   "source": [
    "is Alone?"
   ]
  },
  {
   "cell_type": "code",
   "execution_count": null,
   "metadata": {},
   "outputs": [],
   "source": [
    "df['Alone'] = df['SibSp'] + df['Parch']\n",
    "df['Alone'] = df['Alone'].apply(lambda x: 1 if x != 0 else 0)\n",
    "\n",
    "_df['Alone'] = _df['SibSp'] + _df['Parch']\n",
    "_df['Alone'] = _df['Alone'].apply(lambda x: 1 if x != 0 else 0)"
   ]
  },
  {
   "cell_type": "code",
   "execution_count": null,
   "metadata": {},
   "outputs": [],
   "source": [
    "fig = plt.figure(figsize=(12,5))\n",
    "sbn.barplot(x='Alone', y='Survived', data=df)\n",
    "plt.show()"
   ]
  },
  {
   "cell_type": "markdown",
   "metadata": {},
   "source": [
    "Family Size"
   ]
  },
  {
   "cell_type": "code",
   "execution_count": null,
   "metadata": {},
   "outputs": [],
   "source": [
    "df['FamilySize'] = df['SibSp'] + df['Parch'] ## 2 gruba böl\n",
    "_df['FamilySize'] = _df['SibSp'] + _df['Parch']"
   ]
  },
  {
   "cell_type": "code",
   "execution_count": null,
   "metadata": {},
   "outputs": [],
   "source": [
    "fig = plt.figure(figsize=(12,5))\n",
    "sbn.barplot(x='FamilySize', y='Survived', data=df)\n",
    "plt.show()"
   ]
  },
  {
   "cell_type": "markdown",
   "metadata": {},
   "source": [
    "is Cabin?"
   ]
  },
  {
   "cell_type": "code",
   "execution_count": null,
   "metadata": {},
   "outputs": [],
   "source": [
    "df['isCabin'] = df[\"Cabin\"].apply(lambda x: 0 if type(x) == float else 1)\n",
    "_df['isCabin'] = _df[\"Cabin\"].apply(lambda x: 0 if type(x) == float else 1)"
   ]
  },
  {
   "cell_type": "code",
   "execution_count": null,
   "metadata": {},
   "outputs": [],
   "source": [
    "fig = plt.figure(figsize=(12,5))\n",
    "sbn.barplot(x='isCabin', y='Survived', data=df)\n",
    "plt.show()"
   ]
  },
  {
   "cell_type": "markdown",
   "metadata": {},
   "source": [
    "Title"
   ]
  },
  {
   "cell_type": "code",
   "execution_count": null,
   "metadata": {},
   "outputs": [],
   "source": [
    "df['Title'] = df['Name'].apply(lambda x: x.split(',')[1].split('.')[0].replace(' ',''))\n",
    "_df['Title'] = _df['Name'].apply(lambda x: x.split(',')[1].split('.')[0].replace(' ',''))"
   ]
  },
  {
   "cell_type": "code",
   "execution_count": null,
   "metadata": {},
   "outputs": [],
   "source": [
    "_list = ['Mr', 'Mrs', 'Master']\n",
    "df['Title'].replace(['Lady', 'Miss', 'Ms', 'Mlle', 'Mme'], 'Mrs', inplace=True)\n",
    "df['Title'].replace(['Sir', 'Rev'], 'Mr', inplace=True)\n",
    "df['Title'][~df.Title.isin(_list)] = 'Others'\n",
    "\n",
    "_df['Title'].replace(['Lady', 'Miss', 'Ms', 'Mlle', 'Mme'], 'Mrs', inplace=True)\n",
    "_df['Title'].replace(['Sir', 'Rev'], 'Mr', inplace=True)\n",
    "_df['Title'][~_df.Title.isin(_list)] = 'Others'"
   ]
  },
  {
   "cell_type": "code",
   "execution_count": null,
   "metadata": {},
   "outputs": [],
   "source": [
    "fig = plt.figure(figsize=(12,5))\n",
    "sbn.barplot(x='Title', y='Survived', data=df)\n",
    "plt.show()"
   ]
  },
  {
   "cell_type": "code",
   "execution_count": null,
   "metadata": {},
   "outputs": [],
   "source": [
    "df.drop(['Name'],axis=1,inplace=True)\n",
    "_df.drop(['Name'],axis=1,inplace=True)"
   ]
  },
  {
   "cell_type": "markdown",
   "metadata": {},
   "source": [
    "Categorical Title"
   ]
  },
  {
   "cell_type": "code",
   "execution_count": null,
   "metadata": {},
   "outputs": [],
   "source": [
    "df['Title'] = df['Title'].map({'Mr':0, 'Mrs':1,'Master':2,'Others':3}).astype('int')\n",
    "_df['Title'] = _df['Title'].map({'Mr':0, 'Mrs':1,'Master':2,'Others':3}).astype('int')"
   ]
  },
  {
   "cell_type": "markdown",
   "metadata": {},
   "source": [
    "Drop columns"
   ]
  },
  {
   "cell_type": "code",
   "execution_count": null,
   "metadata": {},
   "outputs": [],
   "source": [
    "df.drop(['Parch','SibSp','Cabin','Fare','PassengerId','Ticket'], axis=1,inplace=True)\n",
    "_df.drop(['Parch','SibSp','Cabin','Fare','PassengerId','Ticket'], axis=1,inplace=True)"
   ]
  },
  {
   "cell_type": "code",
   "execution_count": null,
   "metadata": {},
   "outputs": [],
   "source": [
    "df.to_csv('df_train.csv',index=False)\n",
    "_df.to_csv('df_test.csv',index=False)"
   ]
  }
 ],
 "metadata": {
  "interpreter": {
   "hash": "02b1dde27e87edefdf863d7c5938f5ab14d0dbf5d66335f903d8a417c652c631"
  },
  "kernelspec": {
   "display_name": "Python 3.6.8 64-bit",
   "language": "python",
   "name": "python3"
  },
  "language_info": {
   "codemirror_mode": {
    "name": "ipython",
    "version": 3
   },
   "file_extension": ".py",
   "mimetype": "text/x-python",
   "name": "python",
   "nbconvert_exporter": "python",
   "pygments_lexer": "ipython3",
   "version": "3.6.8"
  },
  "orig_nbformat": 4
 },
 "nbformat": 4,
 "nbformat_minor": 2
}
